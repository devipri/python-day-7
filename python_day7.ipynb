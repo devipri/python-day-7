{
  "nbformat": 4,
  "nbformat_minor": 0,
  "metadata": {
    "colab": {
      "name": "python day7.ipynb",
      "provenance": [],
      "collapsed_sections": [],
      "authorship_tag": "ABX9TyOxgqlndZyUdOjdHVcNtkHF",
      "include_colab_link": true
    },
    "kernelspec": {
      "name": "python3",
      "display_name": "Python 3"
    }
  },
  "cells": [
    {
      "cell_type": "markdown",
      "metadata": {
        "id": "view-in-github",
        "colab_type": "text"
      },
      "source": [
        "<a href=\"https://colab.research.google.com/github/devipri/python-day-7/blob/master/python_day7.ipynb\" target=\"_parent\"><img src=\"https://colab.research.google.com/assets/colab-badge.svg\" alt=\"Open In Colab\"/></a>"
      ]
    },
    {
      "cell_type": "code",
      "metadata": {
        "id": "3vf8Zs1LqtO2",
        "colab_type": "code",
        "colab": {
          "base_uri": "https://localhost:8080/",
          "height": 34
        },
        "outputId": "7bf1e1d2-1c5d-4405-8485-de41e7f6a50a"
      },
      "source": [
        "# ASSIGNMENT QN.NO.1\n",
        "#TO CREATE A NEW DICTIONARY IN WHICH KEYS BECOMES VALUES AND VALUES BECOMES KEYS\n",
        "\n",
        "dict1 = {21:\"ftp\",22:\"ssh\",23:\"telnet\",80:\"http\"} \n",
        "dict2 ={value:key         for key,value in dict1.items()}\n",
        "print(\"The output:\",dict2)"
      ],
      "execution_count": 2,
      "outputs": [
        {
          "output_type": "stream",
          "text": [
            "The output: {'ftp': 21, 'ssh': 22, 'telnet': 23, 'http': 80}\n"
          ],
          "name": "stdout"
        }
      ]
    },
    {
      "cell_type": "code",
      "metadata": {
        "id": "D8XvL6-DxJ8Y",
        "colab_type": "code",
        "colab": {
          "base_uri": "https://localhost:8080/",
          "height": 34
        },
        "outputId": "3557f212-8b26-4844-aac0-a3d7bcf0dd7b"
      },
      "source": [
        "# ASSIGNMENT QN.NO.2\n",
        "# MAKE A NEW LIST WHICH CONTAINS THE SUM OF TUPLE\n",
        "\n",
        "list1=[(1,2),(3,4),(5,6),(4,5)]\n",
        "list2=[]\n",
        "for each in range(0,len(list1)):\n",
        "  a,b=list1[each]\n",
        "  list2.append(a+b)\n",
        "print(\"The list contains sum of tuple:\",list2)"
      ],
      "execution_count": 3,
      "outputs": [
        {
          "output_type": "stream",
          "text": [
            "The list contains sum of tuple: [3, 7, 11, 9]\n"
          ],
          "name": "stdout"
        }
      ]
    },
    {
      "cell_type": "code",
      "metadata": {
        "id": "wM7oso0Ixlv2",
        "colab_type": "code",
        "colab": {
          "base_uri": "https://localhost:8080/",
          "height": 34
        },
        "outputId": "60156db3-536a-4096-9818-e878d51fdd68"
      },
      "source": [
        "#ASSIGNMENT QN.NO.3\n",
        "# To make the elements in the inner list and tuple to the outer list:\n",
        "\n",
        "list1=[(1,2,3),[1,2],['a','hit','less']]\n",
        "list2=[]\n",
        "list2=[i for each in list1 for i in each]\n",
        "print (\"The required output:\",list2)"
      ],
      "execution_count": 4,
      "outputs": [
        {
          "output_type": "stream",
          "text": [
            "The required output: [1, 2, 3, 1, 2, 'a', 'hit', 'less']\n"
          ],
          "name": "stdout"
        }
      ]
    }
  ]
}